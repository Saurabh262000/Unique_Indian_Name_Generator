{
 "cells": [
  {
   "cell_type": "markdown",
   "metadata": {},
   "source": [
    "# Unique Name Generator"
   ]
  },
  {
   "cell_type": "markdown",
   "metadata": {},
   "source": [
    "## Importing all required Libraries"
   ]
  },
  {
   "cell_type": "code",
   "execution_count": 1,
   "metadata": {},
   "outputs": [],
   "source": [
    "import pandas as pd\n",
    "import numpy as np\n",
    "from tensorflow.keras.models import load_model,Sequential\n",
    "from tensorflow.keras.layers import Embedding, LSTM, Dense, Dropout, Bidirectional,Input\n",
    "from tensorflow.keras.losses import SparseCategoricalCrossentropy\n",
    "from tensorflow.keras.preprocessing.sequence import pad_sequences\n",
    "from tensorflow.keras.preprocessing.text import Tokenizer\n",
    "import matplotlib.pyplot as plt\n",
    "from tensorflow.keras.regularizers import Regularizer\n",
    "import tensorflow.keras.utils as ku\n",
    "%matplotlib inline\n",
    "import seaborn as sns\n",
    "import random\n",
    "import warnings\n",
    "warnings.filterwarnings('ignore')"
   ]
  },
  {
   "cell_type": "markdown",
   "metadata": {},
   "source": [
    "## Loading Male and Female Data"
   ]
  },
  {
   "cell_type": "code",
   "execution_count": 2,
   "metadata": {},
   "outputs": [],
   "source": [
    "data=pd.read_csv(\"C:/Users/saura/Desktop/Girl_name.csv\")"
   ]
  },
  {
   "cell_type": "code",
   "execution_count": 3,
   "metadata": {},
   "outputs": [],
   "source": [
    "data1=pd.read_csv(\"C:/Users/saura/Downloads/archive/Dataset-Indian-Names-master/Indian-Male-Names.csv\")"
   ]
  },
  {
   "cell_type": "code",
   "execution_count": 4,
   "metadata": {},
   "outputs": [],
   "source": [
    "data1=data1.loc[:,'name']"
   ]
  },
  {
   "cell_type": "markdown",
   "metadata": {},
   "source": [
    "## Preprocessing the male data"
   ]
  },
  {
   "cell_type": "code",
   "execution_count": 5,
   "metadata": {},
   "outputs": [
    {
     "data": {
      "text/plain": [
       "24"
      ]
     },
     "execution_count": 5,
     "metadata": {},
     "output_type": "execute_result"
    }
   ],
   "source": [
    "data1.isnull().sum()"
   ]
  },
  {
   "cell_type": "code",
   "execution_count": 6,
   "metadata": {},
   "outputs": [],
   "source": [
    "data1=data1.dropna()"
   ]
  },
  {
   "cell_type": "code",
   "execution_count": 7,
   "metadata": {},
   "outputs": [
    {
     "data": {
      "text/html": [
       "<div>\n",
       "<style scoped>\n",
       "    .dataframe tbody tr th:only-of-type {\n",
       "        vertical-align: middle;\n",
       "    }\n",
       "\n",
       "    .dataframe tbody tr th {\n",
       "        vertical-align: top;\n",
       "    }\n",
       "\n",
       "    .dataframe thead th {\n",
       "        text-align: right;\n",
       "    }\n",
       "</style>\n",
       "<table border=\"1\" class=\"dataframe\">\n",
       "  <thead>\n",
       "    <tr style=\"text-align: right;\">\n",
       "      <th></th>\n",
       "      <th>Girl</th>\n",
       "    </tr>\n",
       "  </thead>\n",
       "  <tbody>\n",
       "    <tr>\n",
       "      <th>0</th>\n",
       "      <td>shivani</td>\n",
       "    </tr>\n",
       "    <tr>\n",
       "      <th>1</th>\n",
       "      <td>isha</td>\n",
       "    </tr>\n",
       "    <tr>\n",
       "      <th>2</th>\n",
       "      <td>divya</td>\n",
       "    </tr>\n",
       "    <tr>\n",
       "      <th>3</th>\n",
       "      <td>mansi</td>\n",
       "    </tr>\n",
       "    <tr>\n",
       "      <th>4</th>\n",
       "      <td>mazida</td>\n",
       "    </tr>\n",
       "  </tbody>\n",
       "</table>\n",
       "</div>"
      ],
      "text/plain": [
       "      Girl\n",
       "0  shivani\n",
       "1     isha\n",
       "2    divya\n",
       "3    mansi\n",
       "4   mazida"
      ]
     },
     "execution_count": 7,
     "metadata": {},
     "output_type": "execute_result"
    }
   ],
   "source": [
    "data.head()"
   ]
  },
  {
   "cell_type": "code",
   "execution_count": 8,
   "metadata": {},
   "outputs": [],
   "source": [
    "# Function to Clean data\n",
    "\n",
    "def clean(data):\n",
    "    data=[i.split()[0].lower() for i in data]\n",
    "    data=[i for i in data if i.isalpha()]\n",
    "    data=set(data)\n",
    "    corp=[]\n",
    "    for i in data:\n",
    "        if(len(i)<=10 and len(i)>3):\n",
    "            corp.append(i+'\\n')\n",
    "    return corp"
   ]
  },
  {
   "cell_type": "markdown",
   "metadata": {},
   "source": [
    "## Extracting all the cleaned data"
   ]
  },
  {
   "cell_type": "code",
   "execution_count": 9,
   "metadata": {},
   "outputs": [],
   "source": [
    "corp=clean(data['Girl'])"
   ]
  },
  {
   "cell_type": "code",
   "execution_count": 10,
   "metadata": {},
   "outputs": [],
   "source": [
    "corp_m=clean(data1)"
   ]
  },
  {
   "cell_type": "markdown",
   "metadata": {},
   "source": [
    "## Building Dictionaries to map characters to index and vice versa"
   ]
  },
  {
   "cell_type": "code",
   "execution_count": 12,
   "metadata": {},
   "outputs": [],
   "source": [
    "conv=['\\n', 'a', 'b', 'c', 'd', 'e', 'f', 'g', 'h', 'i', 'j', 'k', 'l', 'm', 'n', 'o', 'p', 'q', 'r', 's', 't', 'u', 'v', 'w', 'x', 'y', 'z']"
   ]
  },
  {
   "cell_type": "code",
   "execution_count": 13,
   "metadata": {},
   "outputs": [],
   "source": [
    "char_to_i={j:i for i,j in enumerate(conv)}\n",
    "i_to_char={i:j for i,j in enumerate(conv)}"
   ]
  },
  {
   "cell_type": "markdown",
   "metadata": {},
   "source": [
    "## Mapping the array of names to the array of indexes"
   ]
  },
  {
   "cell_type": "code",
   "execution_count": 14,
   "metadata": {},
   "outputs": [],
   "source": [
    "# Helper fuction to map array\n",
    "\n",
    "def format_it(data):\n",
    "    corpus=[]\n",
    "    for i in data:\n",
    "        z=[]\n",
    "        for j in range(len(i)): \n",
    "            z.append(char_to_i[i[j]])\n",
    "            corpus.append(z[:])\n",
    "    return corpus"
   ]
  },
  {
   "cell_type": "code",
   "execution_count": 15,
   "metadata": {},
   "outputs": [],
   "source": [
    "corpus=format_it(corp)"
   ]
  },
  {
   "cell_type": "code",
   "execution_count": 16,
   "metadata": {},
   "outputs": [],
   "source": [
    "corpus_m=format_it(corp_m)"
   ]
  },
  {
   "cell_type": "markdown",
   "metadata": {},
   "source": [
    "## Making Input and Outut array for training the model."
   ]
  },
  {
   "cell_type": "code",
   "execution_count": 17,
   "metadata": {},
   "outputs": [],
   "source": [
    "output_arr=np.array(pad_sequences(corpus, maxlen=12, padding='pre'))"
   ]
  },
  {
   "cell_type": "code",
   "execution_count": 18,
   "metadata": {},
   "outputs": [],
   "source": [
    "output=ku.to_categorical(output_arr[:,-1])"
   ]
  },
  {
   "cell_type": "code",
   "execution_count": 19,
   "metadata": {},
   "outputs": [],
   "source": [
    "output_arr_m=np.array(pad_sequences(corpus_m, maxlen=12, padding='pre'))"
   ]
  },
  {
   "cell_type": "code",
   "execution_count": 20,
   "metadata": {},
   "outputs": [],
   "source": [
    "output_m=ku.to_categorical(output_arr_m[:,-1])"
   ]
  },
  {
   "cell_type": "code",
   "execution_count": 21,
   "metadata": {},
   "outputs": [],
   "source": [
    "input_arr=[]\n",
    "for i in output_arr:\n",
    "    arr=[]\n",
    "    arr.append(0)\n",
    "    for j in range(11):\n",
    "        arr.append(i[j])\n",
    "    input_arr.append(arr[:])"
   ]
  },
  {
   "cell_type": "code",
   "execution_count": 22,
   "metadata": {},
   "outputs": [],
   "source": [
    "input_arr_m=[]\n",
    "for i in output_arr_m:\n",
    "    arr=[]\n",
    "    arr.append(0)\n",
    "    for j in range(11):\n",
    "        arr.append(i[j])\n",
    "    input_arr_m.append(arr[:])"
   ]
  },
  {
   "cell_type": "code",
   "execution_count": 23,
   "metadata": {},
   "outputs": [],
   "source": [
    "input_arr=np.array(input_arr)"
   ]
  },
  {
   "cell_type": "code",
   "execution_count": 24,
   "metadata": {},
   "outputs": [],
   "source": [
    "input_arr_m=np.array(input_arr_m)"
   ]
  },
  {
   "cell_type": "code",
   "execution_count": 25,
   "metadata": {},
   "outputs": [],
   "source": [
    "# Helper function for One-Hot encoding\n",
    "\n",
    "def mask(data):\n",
    "    temp=[]\n",
    "    t=0\n",
    "    for i in data:\n",
    "        zero_m=np.zeros((27))\n",
    "        if(i==0 and t==0):\n",
    "            temp.append(zero_m)\n",
    "        else:\n",
    "            t=1\n",
    "            zero_m[i]=1\n",
    "            temp.append(zero_m[:])\n",
    "    return temp"
   ]
  },
  {
   "cell_type": "code",
   "execution_count": 26,
   "metadata": {},
   "outputs": [
    {
     "data": {
      "text/plain": [
       "(21668, 12)"
      ]
     },
     "execution_count": 26,
     "metadata": {},
     "output_type": "execute_result"
    }
   ],
   "source": [
    "input_arr.shape"
   ]
  },
  {
   "cell_type": "code",
   "execution_count": 27,
   "metadata": {},
   "outputs": [
    {
     "data": {
      "text/plain": [
       "(27391, 12)"
      ]
     },
     "execution_count": 27,
     "metadata": {},
     "output_type": "execute_result"
    }
   ],
   "source": [
    "input_arr_m.shape"
   ]
  },
  {
   "cell_type": "code",
   "execution_count": 28,
   "metadata": {},
   "outputs": [],
   "source": [
    "input_=np.zeros((21668, 12,27))\n",
    "for i in range(21668):\n",
    "    input_[i]=mask(input_arr[i])\n",
    "    "
   ]
  },
  {
   "cell_type": "code",
   "execution_count": 29,
   "metadata": {},
   "outputs": [],
   "source": [
    "input_m=np.zeros((27391, 12,27))\n",
    "for i in range(27391):\n",
    "    input_m[i]=mask(input_arr_m[i])\n",
    "    "
   ]
  },
  {
   "cell_type": "markdown",
   "metadata": {},
   "source": [
    "## Building the male and female model seperately"
   ]
  },
  {
   "cell_type": "code",
   "execution_count": 150,
   "metadata": {},
   "outputs": [],
   "source": [
    "model=Sequential([\n",
    "    Input(shape=(12,27)),\n",
    "    Bidirectional(LSTM(100,return_sequences=True)),\n",
    "    Dropout(0.3),\n",
    "    LSTM(50),\n",
    "    Dense(13,activation='relu'),\n",
    "    Dense(27,activation='softmax')\n",
    "])"
   ]
  },
  {
   "cell_type": "code",
   "execution_count": 153,
   "metadata": {},
   "outputs": [],
   "source": [
    "model.compile(optimizer='rmsprop',loss='CategoricalCrossentropy',metrics=['accuracy'])"
   ]
  },
  {
   "cell_type": "code",
   "execution_count": 154,
   "metadata": {},
   "outputs": [
    {
     "name": "stdout",
     "output_type": "stream",
     "text": [
      "Epoch 1/150\n",
      "170/170 - 7s - loss: 2.6933 - accuracy: 0.2532\n",
      "Epoch 2/150\n",
      "170/170 - 4s - loss: 2.3547 - accuracy: 0.3267\n",
      "Epoch 3/150\n",
      "170/170 - 4s - loss: 2.2636 - accuracy: 0.3377\n",
      "Epoch 4/150\n",
      "170/170 - 4s - loss: 2.2079 - accuracy: 0.3462\n",
      "Epoch 5/150\n",
      "170/170 - 4s - loss: 2.1757 - accuracy: 0.3526\n",
      "Epoch 6/150\n",
      "170/170 - 4s - loss: 2.1459 - accuracy: 0.3635\n",
      "Epoch 7/150\n",
      "170/170 - 4s - loss: 2.1218 - accuracy: 0.3670\n",
      "Epoch 8/150\n",
      "170/170 - 4s - loss: 2.1021 - accuracy: 0.3729\n",
      "Epoch 9/150\n",
      "170/170 - 4s - loss: 2.0868 - accuracy: 0.3781\n",
      "Epoch 10/150\n",
      "170/170 - 4s - loss: 2.0753 - accuracy: 0.3784\n",
      "Epoch 11/150\n",
      "170/170 - 5s - loss: 2.0606 - accuracy: 0.3837\n",
      "Epoch 12/150\n",
      "170/170 - 4s - loss: 2.0513 - accuracy: 0.3846\n",
      "Epoch 13/150\n",
      "170/170 - 4s - loss: 2.0403 - accuracy: 0.3878\n",
      "Epoch 14/150\n",
      "170/170 - 5s - loss: 2.0310 - accuracy: 0.3901\n",
      "Epoch 15/150\n",
      "170/170 - 4s - loss: 2.0233 - accuracy: 0.3927\n",
      "Epoch 16/150\n",
      "170/170 - 4s - loss: 2.0137 - accuracy: 0.3967\n",
      "Epoch 17/150\n",
      "170/170 - 4s - loss: 2.0050 - accuracy: 0.3982\n",
      "Epoch 18/150\n",
      "170/170 - 4s - loss: 1.9962 - accuracy: 0.3974\n",
      "Epoch 19/150\n",
      "170/170 - 4s - loss: 1.9868 - accuracy: 0.4025\n",
      "Epoch 20/150\n",
      "170/170 - 4s - loss: 1.9795 - accuracy: 0.4053\n",
      "Epoch 21/150\n",
      "170/170 - 4s - loss: 1.9696 - accuracy: 0.4057\n",
      "Epoch 22/150\n",
      "170/170 - 4s - loss: 1.9595 - accuracy: 0.4107\n",
      "Epoch 23/150\n",
      "170/170 - 4s - loss: 1.9520 - accuracy: 0.4115\n",
      "Epoch 24/150\n",
      "170/170 - 4s - loss: 1.9457 - accuracy: 0.4136\n",
      "Epoch 25/150\n",
      "170/170 - 4s - loss: 1.9388 - accuracy: 0.4146\n",
      "Epoch 26/150\n",
      "170/170 - 4s - loss: 1.9276 - accuracy: 0.4182\n",
      "Epoch 27/150\n",
      "170/170 - 5s - loss: 1.9191 - accuracy: 0.4191\n",
      "Epoch 28/150\n",
      "170/170 - 4s - loss: 1.9133 - accuracy: 0.4227\n",
      "Epoch 29/150\n",
      "170/170 - 4s - loss: 1.9040 - accuracy: 0.4245\n",
      "Epoch 30/150\n",
      "170/170 - 4s - loss: 1.8961 - accuracy: 0.4261\n",
      "Epoch 31/150\n",
      "170/170 - 4s - loss: 1.8855 - accuracy: 0.4289\n",
      "Epoch 32/150\n",
      "170/170 - 4s - loss: 1.8794 - accuracy: 0.4306\n",
      "Epoch 33/150\n",
      "170/170 - 4s - loss: 1.8750 - accuracy: 0.4305\n",
      "Epoch 34/150\n",
      "170/170 - 4s - loss: 1.8671 - accuracy: 0.4336\n",
      "Epoch 35/150\n",
      "170/170 - 4s - loss: 1.8603 - accuracy: 0.4352\n",
      "Epoch 36/150\n",
      "170/170 - 4s - loss: 1.8494 - accuracy: 0.4374\n",
      "Epoch 37/150\n",
      "170/170 - 4s - loss: 1.8439 - accuracy: 0.4381\n",
      "Epoch 38/150\n",
      "170/170 - 4s - loss: 1.8382 - accuracy: 0.4403\n",
      "Epoch 39/150\n",
      "170/170 - 4s - loss: 1.8294 - accuracy: 0.4408\n",
      "Epoch 40/150\n",
      "170/170 - 4s - loss: 1.8231 - accuracy: 0.4448\n",
      "Epoch 41/150\n",
      "170/170 - 4s - loss: 1.8124 - accuracy: 0.4473\n",
      "Epoch 42/150\n",
      "170/170 - 4s - loss: 1.8082 - accuracy: 0.4479\n",
      "Epoch 43/150\n",
      "170/170 - 4s - loss: 1.8011 - accuracy: 0.4508\n",
      "Epoch 44/150\n",
      "170/170 - 4s - loss: 1.7963 - accuracy: 0.4511\n",
      "Epoch 45/150\n",
      "170/170 - 4s - loss: 1.7920 - accuracy: 0.4523\n",
      "Epoch 46/150\n",
      "170/170 - 4s - loss: 1.7845 - accuracy: 0.4536\n",
      "Epoch 47/150\n",
      "170/170 - 4s - loss: 1.7776 - accuracy: 0.4584\n",
      "Epoch 48/150\n",
      "170/170 - 4s - loss: 1.7707 - accuracy: 0.4600\n",
      "Epoch 49/150\n",
      "170/170 - 4s - loss: 1.7634 - accuracy: 0.4594\n",
      "Epoch 50/150\n",
      "170/170 - 4s - loss: 1.7560 - accuracy: 0.4623\n",
      "Epoch 51/150\n",
      "170/170 - 4s - loss: 1.7533 - accuracy: 0.4621\n",
      "Epoch 52/150\n",
      "170/170 - 4s - loss: 1.7448 - accuracy: 0.4644\n",
      "Epoch 53/150\n",
      "170/170 - 4s - loss: 1.7385 - accuracy: 0.4646\n",
      "Epoch 54/150\n",
      "170/170 - 4s - loss: 1.7303 - accuracy: 0.4681\n",
      "Epoch 55/150\n",
      "170/170 - 4s - loss: 1.7251 - accuracy: 0.4676\n",
      "Epoch 56/150\n",
      "170/170 - 4s - loss: 1.7221 - accuracy: 0.4695\n",
      "Epoch 57/150\n",
      "170/170 - 4s - loss: 1.7175 - accuracy: 0.4705\n",
      "Epoch 58/150\n",
      "170/170 - 4s - loss: 1.7091 - accuracy: 0.4740\n",
      "Epoch 59/150\n",
      "170/170 - 4s - loss: 1.7031 - accuracy: 0.4723\n",
      "Epoch 60/150\n",
      "170/170 - 4s - loss: 1.6995 - accuracy: 0.4727\n",
      "Epoch 61/150\n",
      "170/170 - 4s - loss: 1.6948 - accuracy: 0.4760\n",
      "Epoch 62/150\n",
      "170/170 - 4s - loss: 1.6883 - accuracy: 0.4799\n",
      "Epoch 63/150\n",
      "170/170 - 4s - loss: 1.6783 - accuracy: 0.4825\n",
      "Epoch 64/150\n",
      "170/170 - 4s - loss: 1.6791 - accuracy: 0.4814\n",
      "Epoch 65/150\n",
      "170/170 - 4s - loss: 1.6759 - accuracy: 0.4818\n",
      "Epoch 66/150\n",
      "170/170 - 4s - loss: 1.6671 - accuracy: 0.4841\n",
      "Epoch 67/150\n",
      "170/170 - 4s - loss: 1.6590 - accuracy: 0.4856\n",
      "Epoch 68/150\n",
      "170/170 - 4s - loss: 1.6574 - accuracy: 0.4897\n",
      "Epoch 69/150\n",
      "170/170 - 4s - loss: 1.6521 - accuracy: 0.4885\n",
      "Epoch 70/150\n",
      "170/170 - 4s - loss: 1.6479 - accuracy: 0.4883\n",
      "Epoch 71/150\n",
      "170/170 - 4s - loss: 1.6413 - accuracy: 0.4904\n",
      "Epoch 72/150\n",
      "170/170 - 4s - loss: 1.6369 - accuracy: 0.4892\n",
      "Epoch 73/150\n",
      "170/170 - 4s - loss: 1.6324 - accuracy: 0.4937\n",
      "Epoch 74/150\n",
      "170/170 - 4s - loss: 1.6302 - accuracy: 0.4919\n",
      "Epoch 75/150\n",
      "170/170 - 4s - loss: 1.6234 - accuracy: 0.4961\n",
      "Epoch 76/150\n",
      "170/170 - 4s - loss: 1.6225 - accuracy: 0.4957\n",
      "Epoch 77/150\n",
      "170/170 - 4s - loss: 1.6157 - accuracy: 0.4980\n",
      "Epoch 78/150\n",
      "170/170 - 4s - loss: 1.6121 - accuracy: 0.4982\n",
      "Epoch 79/150\n",
      "170/170 - 4s - loss: 1.6095 - accuracy: 0.5001\n",
      "Epoch 80/150\n",
      "170/170 - 4s - loss: 1.6070 - accuracy: 0.4989\n",
      "Epoch 81/150\n",
      "170/170 - 4s - loss: 1.6001 - accuracy: 0.5018\n",
      "Epoch 82/150\n",
      "170/170 - 4s - loss: 1.5950 - accuracy: 0.5036\n",
      "Epoch 83/150\n",
      "170/170 - 4s - loss: 1.5924 - accuracy: 0.5012\n",
      "Epoch 84/150\n",
      "170/170 - 4s - loss: 1.5893 - accuracy: 0.5044\n",
      "Epoch 85/150\n",
      "170/170 - 4s - loss: 1.5859 - accuracy: 0.5038\n",
      "Epoch 86/150\n",
      "170/170 - 4s - loss: 1.5850 - accuracy: 0.5055\n",
      "Epoch 87/150\n",
      "170/170 - 4s - loss: 1.5827 - accuracy: 0.5060\n",
      "Epoch 88/150\n",
      "170/170 - 4s - loss: 1.5781 - accuracy: 0.5066\n",
      "Epoch 89/150\n",
      "170/170 - 4s - loss: 1.5733 - accuracy: 0.5099\n",
      "Epoch 90/150\n",
      "170/170 - 4s - loss: 1.5700 - accuracy: 0.5096\n",
      "Epoch 91/150\n",
      "170/170 - 4s - loss: 1.5639 - accuracy: 0.5087\n",
      "Epoch 92/150\n",
      "170/170 - 5s - loss: 1.5639 - accuracy: 0.5092\n",
      "Epoch 93/150\n",
      "170/170 - 5s - loss: 1.5579 - accuracy: 0.5103\n",
      "Epoch 94/150\n",
      "170/170 - 5s - loss: 1.5553 - accuracy: 0.5130\n",
      "Epoch 95/150\n",
      "170/170 - 4s - loss: 1.5526 - accuracy: 0.5134\n",
      "Epoch 96/150\n",
      "170/170 - 4s - loss: 1.5448 - accuracy: 0.5138\n",
      "Epoch 97/150\n",
      "170/170 - 5s - loss: 1.5471 - accuracy: 0.5135\n",
      "Epoch 98/150\n",
      "170/170 - 5s - loss: 1.5381 - accuracy: 0.5150\n",
      "Epoch 99/150\n",
      "170/170 - 4s - loss: 1.5434 - accuracy: 0.5130\n",
      "Epoch 100/150\n",
      "170/170 - 4s - loss: 1.5380 - accuracy: 0.5173\n",
      "Epoch 101/150\n",
      "170/170 - 5s - loss: 1.5379 - accuracy: 0.5190\n",
      "Epoch 102/150\n",
      "170/170 - 4s - loss: 1.5323 - accuracy: 0.5184\n",
      "Epoch 103/150\n",
      "170/170 - 5s - loss: 1.5286 - accuracy: 0.5166\n",
      "Epoch 104/150\n",
      "170/170 - 5s - loss: 1.5272 - accuracy: 0.5179\n",
      "Epoch 105/150\n",
      "170/170 - 5s - loss: 1.5225 - accuracy: 0.5199\n",
      "Epoch 106/150\n",
      "170/170 - 4s - loss: 1.5195 - accuracy: 0.5225\n",
      "Epoch 107/150\n",
      "170/170 - 4s - loss: 1.5182 - accuracy: 0.5229\n",
      "Epoch 108/150\n",
      "170/170 - 4s - loss: 1.5167 - accuracy: 0.5228\n",
      "Epoch 109/150\n",
      "170/170 - 4s - loss: 1.5123 - accuracy: 0.5236\n",
      "Epoch 110/150\n",
      "170/170 - 4s - loss: 1.5060 - accuracy: 0.5251\n",
      "Epoch 111/150\n",
      "170/170 - 4s - loss: 1.5056 - accuracy: 0.5264\n",
      "Epoch 112/150\n",
      "170/170 - 4s - loss: 1.5073 - accuracy: 0.5233\n",
      "Epoch 113/150\n",
      "170/170 - 4s - loss: 1.5032 - accuracy: 0.5251\n",
      "Epoch 114/150\n",
      "170/170 - 4s - loss: 1.5049 - accuracy: 0.5245\n",
      "Epoch 115/150\n",
      "170/170 - 4s - loss: 1.4962 - accuracy: 0.5275\n",
      "Epoch 116/150\n",
      "170/170 - 4s - loss: 1.4965 - accuracy: 0.5263\n",
      "Epoch 117/150\n",
      "170/170 - 4s - loss: 1.4973 - accuracy: 0.5257\n",
      "Epoch 118/150\n",
      "170/170 - 4s - loss: 1.4913 - accuracy: 0.5284\n",
      "Epoch 119/150\n",
      "170/170 - 4s - loss: 1.4912 - accuracy: 0.5274\n",
      "Epoch 120/150\n",
      "170/170 - 4s - loss: 1.4895 - accuracy: 0.5290\n",
      "Epoch 121/150\n",
      "170/170 - 4s - loss: 1.4852 - accuracy: 0.5294\n",
      "Epoch 122/150\n",
      "170/170 - 4s - loss: 1.4860 - accuracy: 0.5276\n",
      "Epoch 123/150\n",
      "170/170 - 4s - loss: 1.4811 - accuracy: 0.5322\n",
      "Epoch 124/150\n",
      "170/170 - 4s - loss: 1.4749 - accuracy: 0.5339\n",
      "Epoch 125/150\n",
      "170/170 - 4s - loss: 1.4822 - accuracy: 0.5307\n",
      "Epoch 126/150\n",
      "170/170 - 4s - loss: 1.4764 - accuracy: 0.5311\n",
      "Epoch 127/150\n",
      "170/170 - 4s - loss: 1.4728 - accuracy: 0.5326\n",
      "Epoch 128/150\n",
      "170/170 - 4s - loss: 1.4732 - accuracy: 0.5324\n",
      "Epoch 129/150\n",
      "170/170 - 4s - loss: 1.4706 - accuracy: 0.5336\n",
      "Epoch 130/150\n",
      "170/170 - 4s - loss: 1.4633 - accuracy: 0.5339\n",
      "Epoch 131/150\n",
      "170/170 - 4s - loss: 1.4697 - accuracy: 0.5346\n",
      "Epoch 132/150\n",
      "170/170 - 4s - loss: 1.4640 - accuracy: 0.5355\n",
      "Epoch 133/150\n",
      "170/170 - 4s - loss: 1.4668 - accuracy: 0.5360\n",
      "Epoch 134/150\n",
      "170/170 - 4s - loss: 1.4638 - accuracy: 0.5348\n",
      "Epoch 135/150\n",
      "170/170 - 4s - loss: 1.4600 - accuracy: 0.5354\n",
      "Epoch 136/150\n",
      "170/170 - 4s - loss: 1.4552 - accuracy: 0.5409\n",
      "Epoch 137/150\n",
      "170/170 - 4s - loss: 1.4517 - accuracy: 0.5393\n",
      "Epoch 138/150\n",
      "170/170 - 4s - loss: 1.4517 - accuracy: 0.5382\n",
      "Epoch 139/150\n",
      "170/170 - 4s - loss: 1.4550 - accuracy: 0.5361\n",
      "Epoch 140/150\n",
      "170/170 - 4s - loss: 1.4484 - accuracy: 0.5373\n",
      "Epoch 141/150\n",
      "170/170 - 4s - loss: 1.4510 - accuracy: 0.5378\n",
      "Epoch 142/150\n",
      "170/170 - 4s - loss: 1.4484 - accuracy: 0.5408\n",
      "Epoch 143/150\n",
      "170/170 - 4s - loss: 1.4486 - accuracy: 0.5375\n",
      "Epoch 144/150\n",
      "170/170 - 4s - loss: 1.4431 - accuracy: 0.5418\n",
      "Epoch 145/150\n",
      "170/170 - 4s - loss: 1.4410 - accuracy: 0.5432\n",
      "Epoch 146/150\n",
      "170/170 - 4s - loss: 1.4417 - accuracy: 0.5407\n",
      "Epoch 147/150\n",
      "170/170 - 4s - loss: 1.4390 - accuracy: 0.5432\n",
      "Epoch 148/150\n",
      "170/170 - 4s - loss: 1.4426 - accuracy: 0.5406\n",
      "Epoch 149/150\n",
      "170/170 - 4s - loss: 1.4360 - accuracy: 0.5427\n",
      "Epoch 150/150\n",
      "170/170 - 4s - loss: 1.4315 - accuracy: 0.5404\n"
     ]
    }
   ],
   "source": [
    "history=model.fit(x=input_,y=output,epochs=150,batch_size=128,verbose=2)"
   ]
  },
  {
   "cell_type": "code",
   "execution_count": 156,
   "metadata": {},
   "outputs": [
    {
     "data": {
      "text/plain": [
       "<AxesSubplot:>"
      ]
     },
     "execution_count": 156,
     "metadata": {},
     "output_type": "execute_result"
    },
    {
     "data": {
      "image/png": "[encoded data removed]",
      "text/plain": [
       "<Figure size 432x288 with 1 Axes>"
      ]
     },
     "metadata": {
      "needs_background": "light"
     },
     "output_type": "display_data"
    }
   ],
   "source": [
    "sns.lineplot(x=range(150),y=history.history['accuracy'])"
   ]
  },
  {
   "cell_type": "code",
   "execution_count": 157,
   "metadata": {},
   "outputs": [
    {
     "data": {
      "text/plain": [
       "<AxesSubplot:>"
      ]
     },
     "execution_count": 157,
     "metadata": {},
     "output_type": "execute_result"
    },
    {
     "data": {
      "image/png": "[encoded data removed]",
      "text/plain": [
       "<Figure size 432x288 with 1 Axes>"
      ]
     },
     "metadata": {
      "needs_background": "light"
     },
     "output_type": "display_data"
    }
   ],
   "source": [
    "sns.lineplot(x=range(150),y=history.history['loss'])"
   ]
  },
  {
   "cell_type": "code",
   "execution_count": 160,
   "metadata": {},
   "outputs": [],
   "source": [
    "model_m=Sequential([\n",
    "    Input(shape=(12,27)),\n",
    "    Bidirectional(LSTM(100,return_sequences=True)),\n",
    "    Dropout(0.3),\n",
    "    LSTM(50),\n",
    "    Dense(13,activation='relu'),\n",
    "    Dense(27,activation='softmax')\n",
    "])"
   ]
  },
  {
   "cell_type": "code",
   "execution_count": 161,
   "metadata": {},
   "outputs": [],
   "source": [
    "model_m.compile(optimizer='rmsprop',loss='CategoricalCrossentropy',metrics=['accuracy'])"
   ]
  },
  {
   "cell_type": "code",
   "execution_count": 162,
   "metadata": {},
   "outputs": [
    {
     "name": "stdout",
     "output_type": "stream",
     "text": [
      "Epoch 1/250\n",
      "214/214 - 9s - loss: 2.7668 - accuracy: 0.2376\n",
      "Epoch 2/250\n",
      "214/214 - 6s - loss: 2.4189 - accuracy: 0.3079\n",
      "Epoch 3/250\n",
      "214/214 - 6s - loss: 2.3029 - accuracy: 0.3247\n",
      "Epoch 4/250\n",
      "214/214 - 6s - loss: 2.2511 - accuracy: 0.3359\n",
      "Epoch 5/250\n",
      "214/214 - 6s - loss: 2.2168 - accuracy: 0.3475\n",
      "Epoch 6/250\n",
      "214/214 - 6s - loss: 2.1866 - accuracy: 0.3567\n",
      "Epoch 7/250\n",
      "214/214 - 6s - loss: 2.1595 - accuracy: 0.3651\n",
      "Epoch 8/250\n",
      "214/214 - 6s - loss: 2.1367 - accuracy: 0.3701\n",
      "Epoch 9/250\n",
      "214/214 - 6s - loss: 2.1156 - accuracy: 0.3741\n",
      "Epoch 10/250\n",
      "214/214 - 6s - loss: 2.1000 - accuracy: 0.3755\n",
      "Epoch 11/250\n",
      "214/214 - 6s - loss: 2.0868 - accuracy: 0.3802\n",
      "Epoch 12/250\n",
      "214/214 - 6s - loss: 2.0728 - accuracy: 0.3824\n",
      "Epoch 13/250\n",
      "214/214 - 6s - loss: 2.0596 - accuracy: 0.3843\n",
      "Epoch 14/250\n",
      "214/214 - 6s - loss: 2.0464 - accuracy: 0.3866\n",
      "Epoch 15/250\n",
      "214/214 - 6s - loss: 2.0329 - accuracy: 0.3922\n",
      "Epoch 16/250\n",
      "214/214 - 5s - loss: 2.0252 - accuracy: 0.3928\n",
      "Epoch 17/250\n",
      "214/214 - 5s - loss: 2.0123 - accuracy: 0.3957\n",
      "Epoch 18/250\n",
      "214/214 - 5s - loss: 2.0024 - accuracy: 0.3985\n",
      "Epoch 19/250\n",
      "214/214 - 5s - loss: 1.9912 - accuracy: 0.4029\n",
      "Epoch 20/250\n",
      "214/214 - 5s - loss: 1.9818 - accuracy: 0.4025\n",
      "Epoch 21/250\n",
      "214/214 - 5s - loss: 1.9721 - accuracy: 0.4079\n",
      "Epoch 22/250\n",
      "214/214 - 5s - loss: 1.9623 - accuracy: 0.4079\n",
      "Epoch 23/250\n",
      "214/214 - 5s - loss: 1.9521 - accuracy: 0.4122\n",
      "Epoch 24/250\n",
      "214/214 - 5s - loss: 1.9430 - accuracy: 0.4160\n",
      "Epoch 25/250\n",
      "214/214 - 5s - loss: 1.9355 - accuracy: 0.4165\n",
      "Epoch 26/250\n",
      "214/214 - 5s - loss: 1.9266 - accuracy: 0.4187\n",
      "Epoch 27/250\n",
      "214/214 - 5s - loss: 1.9177 - accuracy: 0.4195\n",
      "Epoch 28/250\n",
      "214/214 - 5s - loss: 1.9072 - accuracy: 0.4244\n",
      "Epoch 29/250\n",
      "214/214 - 5s - loss: 1.9011 - accuracy: 0.4258\n",
      "Epoch 30/250\n",
      "214/214 - 6s - loss: 1.8904 - accuracy: 0.4289\n",
      "Epoch 31/250\n",
      "214/214 - 6s - loss: 1.8835 - accuracy: 0.4298\n",
      "Epoch 32/250\n",
      "214/214 - 6s - loss: 1.8742 - accuracy: 0.4344\n",
      "Epoch 33/250\n",
      "214/214 - 6s - loss: 1.8679 - accuracy: 0.4334\n",
      "Epoch 34/250\n",
      "214/214 - 5s - loss: 1.8589 - accuracy: 0.4368\n",
      "Epoch 35/250\n",
      "214/214 - 6s - loss: 1.8508 - accuracy: 0.4370\n",
      "Epoch 36/250\n",
      "214/214 - 6s - loss: 1.8441 - accuracy: 0.4391\n",
      "Epoch 37/250\n",
      "214/214 - 6s - loss: 1.8376 - accuracy: 0.4409\n",
      "Epoch 38/250\n",
      "214/214 - 6s - loss: 1.8284 - accuracy: 0.4457\n",
      "Epoch 39/250\n",
      "214/214 - 6s - loss: 1.8241 - accuracy: 0.4459\n",
      "Epoch 40/250\n",
      "214/214 - 5s - loss: 1.8160 - accuracy: 0.4491\n",
      "Epoch 41/250\n",
      "214/214 - 5s - loss: 1.8095 - accuracy: 0.4493\n",
      "Epoch 42/250\n",
      "214/214 - 5s - loss: 1.7991 - accuracy: 0.4518\n",
      "Epoch 43/250\n",
      "214/214 - 6s - loss: 1.7953 - accuracy: 0.4514\n",
      "Epoch 44/250\n",
      "214/214 - 5s - loss: 1.7849 - accuracy: 0.4568\n",
      "Epoch 45/250\n",
      "214/214 - 5s - loss: 1.7795 - accuracy: 0.4568\n",
      "Epoch 46/250\n",
      "214/214 - 6s - loss: 1.7751 - accuracy: 0.4578\n",
      "Epoch 47/250\n",
      "214/214 - 6s - loss: 1.7687 - accuracy: 0.4601\n",
      "Epoch 48/250\n",
      "214/214 - 5s - loss: 1.7622 - accuracy: 0.4587\n",
      "Epoch 49/250\n",
      "214/214 - 6s - loss: 1.7563 - accuracy: 0.4613\n",
      "Epoch 50/250\n",
      "214/214 - 6s - loss: 1.7475 - accuracy: 0.4654\n",
      "Epoch 51/250\n",
      "214/214 - 6s - loss: 1.7402 - accuracy: 0.4685\n",
      "Epoch 52/250\n",
      "214/214 - 6s - loss: 1.7381 - accuracy: 0.4670\n",
      "Epoch 53/250\n",
      "214/214 - 5s - loss: 1.7296 - accuracy: 0.4698\n",
      "Epoch 54/250\n",
      "214/214 - 6s - loss: 1.7262 - accuracy: 0.4700\n",
      "Epoch 55/250\n",
      "214/214 - 6s - loss: 1.7197 - accuracy: 0.4726\n",
      "Epoch 56/250\n",
      "214/214 - 6s - loss: 1.7137 - accuracy: 0.4781\n",
      "Epoch 57/250\n",
      "214/214 - 6s - loss: 1.7103 - accuracy: 0.4761\n",
      "Epoch 58/250\n",
      "214/214 - 6s - loss: 1.7039 - accuracy: 0.4769\n",
      "Epoch 59/250\n",
      "214/214 - 6s - loss: 1.6974 - accuracy: 0.4798\n",
      "Epoch 60/250\n",
      "214/214 - 6s - loss: 1.6935 - accuracy: 0.4782\n",
      "Epoch 61/250\n",
      "214/214 - 5s - loss: 1.6833 - accuracy: 0.4820\n",
      "Epoch 62/250\n",
      "214/214 - 5s - loss: 1.6817 - accuracy: 0.4818\n",
      "Epoch 63/250\n",
      "214/214 - 5s - loss: 1.6777 - accuracy: 0.4827\n",
      "Epoch 64/250\n",
      "214/214 - 6s - loss: 1.6751 - accuracy: 0.4839\n",
      "Epoch 65/250\n",
      "214/214 - 5s - loss: 1.6667 - accuracy: 0.4899\n",
      "Epoch 66/250\n",
      "214/214 - 5s - loss: 1.6621 - accuracy: 0.4886\n",
      "Epoch 67/250\n",
      "214/214 - 5s - loss: 1.6581 - accuracy: 0.4906\n",
      "Epoch 68/250\n",
      "214/214 - 5s - loss: 1.6508 - accuracy: 0.4914\n",
      "Epoch 69/250\n",
      "214/214 - 5s - loss: 1.6497 - accuracy: 0.4903\n",
      "Epoch 70/250\n",
      "214/214 - 5s - loss: 1.6444 - accuracy: 0.4923\n",
      "Epoch 71/250\n",
      "214/214 - 5s - loss: 1.6387 - accuracy: 0.4948\n",
      "Epoch 72/250\n",
      "214/214 - 5s - loss: 1.6365 - accuracy: 0.4952\n",
      "Epoch 73/250\n",
      "214/214 - 5s - loss: 1.6324 - accuracy: 0.4938\n",
      "Epoch 74/250\n",
      "214/214 - 5s - loss: 1.6253 - accuracy: 0.4996\n",
      "Epoch 75/250\n",
      "214/214 - 5s - loss: 1.6241 - accuracy: 0.4970\n",
      "Epoch 76/250\n",
      "214/214 - 5s - loss: 1.6225 - accuracy: 0.4978\n",
      "Epoch 77/250\n",
      "214/214 - 5s - loss: 1.6188 - accuracy: 0.4987\n",
      "Epoch 78/250\n",
      "214/214 - 5s - loss: 1.6108 - accuracy: 0.5020\n",
      "Epoch 79/250\n",
      "214/214 - 5s - loss: 1.6073 - accuracy: 0.4999\n",
      "Epoch 80/250\n",
      "214/214 - 5s - loss: 1.6052 - accuracy: 0.5011\n",
      "Epoch 81/250\n",
      "214/214 - 5s - loss: 1.6033 - accuracy: 0.5010\n",
      "Epoch 82/250\n",
      "214/214 - 5s - loss: 1.5953 - accuracy: 0.5037\n",
      "Epoch 83/250\n",
      "214/214 - 5s - loss: 1.5948 - accuracy: 0.5031\n",
      "Epoch 84/250\n",
      "214/214 - 5s - loss: 1.5902 - accuracy: 0.5037\n",
      "Epoch 85/250\n",
      "214/214 - 5s - loss: 1.5884 - accuracy: 0.5062\n",
      "Epoch 86/250\n",
      "214/214 - 5s - loss: 1.5820 - accuracy: 0.5062\n",
      "Epoch 87/250\n",
      "214/214 - 5s - loss: 1.5820 - accuracy: 0.5083\n",
      "Epoch 88/250\n",
      "214/214 - 5s - loss: 1.5819 - accuracy: 0.5090\n",
      "Epoch 89/250\n",
      "214/214 - 5s - loss: 1.5754 - accuracy: 0.5107\n",
      "Epoch 90/250\n",
      "214/214 - 5s - loss: 1.5691 - accuracy: 0.5101\n",
      "Epoch 91/250\n",
      "214/214 - 5s - loss: 1.5622 - accuracy: 0.5130\n",
      "Epoch 92/250\n",
      "214/214 - 5s - loss: 1.5648 - accuracy: 0.5135\n",
      "Epoch 93/250\n",
      "214/214 - 5s - loss: 1.5677 - accuracy: 0.5109\n",
      "Epoch 94/250\n",
      "214/214 - 5s - loss: 1.5560 - accuracy: 0.5132\n",
      "Epoch 95/250\n",
      "214/214 - 5s - loss: 1.5557 - accuracy: 0.5145\n",
      "Epoch 96/250\n",
      "214/214 - 5s - loss: 1.5536 - accuracy: 0.5181\n",
      "Epoch 97/250\n",
      "214/214 - 5s - loss: 1.5491 - accuracy: 0.5181\n",
      "Epoch 98/250\n",
      "214/214 - 5s - loss: 1.5475 - accuracy: 0.5162\n",
      "Epoch 99/250\n",
      "214/214 - 5s - loss: 1.5429 - accuracy: 0.5183\n",
      "Epoch 100/250\n",
      "214/214 - 5s - loss: 1.5451 - accuracy: 0.5162\n",
      "Epoch 101/250\n",
      "214/214 - 5s - loss: 1.5372 - accuracy: 0.5202\n",
      "Epoch 102/250\n",
      "214/214 - 5s - loss: 1.5380 - accuracy: 0.5187\n",
      "Epoch 103/250\n",
      "214/214 - 5s - loss: 1.5322 - accuracy: 0.5194\n",
      "Epoch 104/250\n",
      "214/214 - 6s - loss: 1.5345 - accuracy: 0.5187\n",
      "Epoch 105/250\n",
      "214/214 - 5s - loss: 1.5299 - accuracy: 0.5217\n",
      "Epoch 106/250\n",
      "214/214 - 5s - loss: 1.5248 - accuracy: 0.5201\n",
      "Epoch 107/250\n",
      "214/214 - 5s - loss: 1.5251 - accuracy: 0.5210\n",
      "Epoch 108/250\n",
      "214/214 - 6s - loss: 1.5186 - accuracy: 0.5232\n",
      "Epoch 109/250\n",
      "214/214 - 5s - loss: 1.5157 - accuracy: 0.5255\n",
      "Epoch 110/250\n",
      "214/214 - 6s - loss: 1.5123 - accuracy: 0.5266\n",
      "Epoch 111/250\n",
      "214/214 - 5s - loss: 1.5127 - accuracy: 0.5258\n",
      "Epoch 112/250\n",
      "214/214 - 6s - loss: 1.5130 - accuracy: 0.5248\n",
      "Epoch 113/250\n",
      "214/214 - 5s - loss: 1.5157 - accuracy: 0.5209\n",
      "Epoch 114/250\n",
      "214/214 - 5s - loss: 1.5100 - accuracy: 0.5230\n",
      "Epoch 115/250\n",
      "214/214 - 5s - loss: 1.4996 - accuracy: 0.5286\n",
      "Epoch 116/250\n",
      "214/214 - 5s - loss: 1.5040 - accuracy: 0.5278\n",
      "Epoch 117/250\n",
      "214/214 - 5s - loss: 1.5006 - accuracy: 0.5279\n",
      "Epoch 118/250\n",
      "214/214 - 5s - loss: 1.4985 - accuracy: 0.5287\n",
      "Epoch 119/250\n",
      "214/214 - 5s - loss: 1.4969 - accuracy: 0.5263\n",
      "Epoch 120/250\n",
      "214/214 - 5s - loss: 1.4947 - accuracy: 0.5288\n",
      "Epoch 121/250\n",
      "214/214 - 5s - loss: 1.4965 - accuracy: 0.5271\n",
      "Epoch 122/250\n",
      "214/214 - 5s - loss: 1.4908 - accuracy: 0.5297\n",
      "Epoch 123/250\n",
      "214/214 - 6s - loss: 1.4878 - accuracy: 0.5302\n",
      "Epoch 124/250\n",
      "214/214 - 5s - loss: 1.4894 - accuracy: 0.5312\n",
      "Epoch 125/250\n",
      "214/214 - 5s - loss: 1.4918 - accuracy: 0.5284\n",
      "Epoch 126/250\n",
      "214/214 - 5s - loss: 1.4836 - accuracy: 0.5317\n",
      "Epoch 127/250\n",
      "214/214 - 5s - loss: 1.4818 - accuracy: 0.5338\n",
      "Epoch 128/250\n",
      "214/214 - 5s - loss: 1.4834 - accuracy: 0.5304\n",
      "Epoch 129/250\n",
      "214/214 - 5s - loss: 1.4794 - accuracy: 0.5319\n",
      "Epoch 130/250\n",
      "214/214 - 5s - loss: 1.4751 - accuracy: 0.5346\n",
      "Epoch 131/250\n",
      "214/214 - 5s - loss: 1.4757 - accuracy: 0.5352\n",
      "Epoch 132/250\n",
      "214/214 - 5s - loss: 1.4750 - accuracy: 0.5336\n",
      "Epoch 133/250\n",
      "214/214 - 5s - loss: 1.4652 - accuracy: 0.5394\n",
      "Epoch 134/250\n",
      "214/214 - 5s - loss: 1.4728 - accuracy: 0.5356\n",
      "Epoch 135/250\n",
      "214/214 - 5s - loss: 1.4714 - accuracy: 0.5340\n",
      "Epoch 136/250\n",
      "214/214 - 5s - loss: 1.4629 - accuracy: 0.5364\n",
      "Epoch 137/250\n",
      "214/214 - 5s - loss: 1.4611 - accuracy: 0.5380\n",
      "Epoch 138/250\n",
      "214/214 - 5s - loss: 1.4591 - accuracy: 0.5404\n",
      "Epoch 139/250\n",
      "214/214 - 5s - loss: 1.4618 - accuracy: 0.5381\n",
      "Epoch 140/250\n",
      "214/214 - 5s - loss: 1.4590 - accuracy: 0.5371\n",
      "Epoch 141/250\n",
      "214/214 - 5s - loss: 1.4575 - accuracy: 0.5398\n",
      "Epoch 142/250\n",
      "214/214 - 5s - loss: 1.4591 - accuracy: 0.5384\n",
      "Epoch 143/250\n",
      "214/214 - 5s - loss: 1.4584 - accuracy: 0.5397\n",
      "Epoch 144/250\n",
      "214/214 - 5s - loss: 1.4561 - accuracy: 0.5378\n",
      "Epoch 145/250\n",
      "214/214 - 5s - loss: 1.4582 - accuracy: 0.5391\n",
      "Epoch 146/250\n",
      "214/214 - 5s - loss: 1.4580 - accuracy: 0.5391\n",
      "Epoch 147/250\n",
      "214/214 - 5s - loss: 1.4464 - accuracy: 0.5431\n",
      "Epoch 148/250\n",
      "214/214 - 5s - loss: 1.4498 - accuracy: 0.5404\n",
      "Epoch 149/250\n",
      "214/214 - 5s - loss: 1.4476 - accuracy: 0.5416\n",
      "Epoch 150/250\n",
      "214/214 - 5s - loss: 1.4490 - accuracy: 0.5412\n",
      "Epoch 151/250\n",
      "214/214 - 5s - loss: 1.4408 - accuracy: 0.5432\n",
      "Epoch 152/250\n",
      "214/214 - 5s - loss: 1.4470 - accuracy: 0.5399\n",
      "Epoch 153/250\n",
      "214/214 - 5s - loss: 1.4411 - accuracy: 0.5415\n",
      "Epoch 154/250\n",
      "214/214 - 5s - loss: 1.4408 - accuracy: 0.5437\n",
      "Epoch 155/250\n",
      "214/214 - 5s - loss: 1.4400 - accuracy: 0.5416\n",
      "Epoch 156/250\n",
      "214/214 - 5s - loss: 1.4390 - accuracy: 0.5438\n",
      "Epoch 157/250\n",
      "214/214 - 5s - loss: 1.4358 - accuracy: 0.5448\n",
      "Epoch 158/250\n",
      "214/214 - 5s - loss: 1.4358 - accuracy: 0.5435\n",
      "Epoch 159/250\n",
      "214/214 - 5s - loss: 1.4388 - accuracy: 0.5413\n",
      "Epoch 160/250\n",
      "214/214 - 5s - loss: 1.4355 - accuracy: 0.5426\n",
      "Epoch 161/250\n",
      "214/214 - 5s - loss: 1.4361 - accuracy: 0.5448\n",
      "Epoch 162/250\n",
      "214/214 - 5s - loss: 1.4365 - accuracy: 0.5423\n",
      "Epoch 163/250\n",
      "214/214 - 5s - loss: 1.4341 - accuracy: 0.5452\n",
      "Epoch 164/250\n",
      "214/214 - 5s - loss: 1.4280 - accuracy: 0.5439\n",
      "Epoch 165/250\n",
      "214/214 - 5s - loss: 1.4281 - accuracy: 0.5476\n",
      "Epoch 166/250\n",
      "214/214 - 5s - loss: 1.4293 - accuracy: 0.5462\n",
      "Epoch 167/250\n",
      "214/214 - 5s - loss: 1.4281 - accuracy: 0.5469\n",
      "Epoch 168/250\n",
      "214/214 - 5s - loss: 1.4240 - accuracy: 0.5487\n",
      "Epoch 169/250\n",
      "214/214 - 5s - loss: 1.4224 - accuracy: 0.5451\n",
      "Epoch 170/250\n",
      "214/214 - 5s - loss: 1.4220 - accuracy: 0.5485\n",
      "Epoch 171/250\n",
      "214/214 - 5s - loss: 1.4227 - accuracy: 0.5503\n",
      "Epoch 172/250\n",
      "214/214 - 5s - loss: 1.4215 - accuracy: 0.5482\n",
      "Epoch 173/250\n",
      "214/214 - 5s - loss: 1.4249 - accuracy: 0.5472\n",
      "Epoch 174/250\n",
      "214/214 - 5s - loss: 1.4222 - accuracy: 0.5459\n",
      "Epoch 175/250\n",
      "214/214 - 5s - loss: 1.4204 - accuracy: 0.5454\n",
      "Epoch 176/250\n",
      "214/214 - 5s - loss: 1.4183 - accuracy: 0.5482\n",
      "Epoch 177/250\n",
      "214/214 - 5s - loss: 1.4202 - accuracy: 0.5489\n",
      "Epoch 178/250\n",
      "214/214 - 5s - loss: 1.4138 - accuracy: 0.5501\n",
      "Epoch 179/250\n",
      "214/214 - 5s - loss: 1.4184 - accuracy: 0.5479\n",
      "Epoch 180/250\n",
      "214/214 - 5s - loss: 1.4144 - accuracy: 0.5485\n",
      "Epoch 181/250\n",
      "214/214 - 5s - loss: 1.4103 - accuracy: 0.5521\n",
      "Epoch 182/250\n",
      "214/214 - 5s - loss: 1.4153 - accuracy: 0.5475\n",
      "Epoch 183/250\n",
      "214/214 - 5s - loss: 1.4103 - accuracy: 0.5497\n",
      "Epoch 184/250\n",
      "214/214 - 5s - loss: 1.4071 - accuracy: 0.5522\n",
      "Epoch 185/250\n",
      "214/214 - 5s - loss: 1.4084 - accuracy: 0.5529\n",
      "Epoch 186/250\n",
      "214/214 - 5s - loss: 1.4093 - accuracy: 0.5503\n",
      "Epoch 187/250\n",
      "214/214 - 5s - loss: 1.4080 - accuracy: 0.5495\n",
      "Epoch 188/250\n",
      "214/214 - 5s - loss: 1.4075 - accuracy: 0.5499\n",
      "Epoch 189/250\n",
      "214/214 - 5s - loss: 1.4092 - accuracy: 0.5504\n",
      "Epoch 190/250\n",
      "214/214 - 5s - loss: 1.4029 - accuracy: 0.5517\n",
      "Epoch 191/250\n",
      "214/214 - 5s - loss: 1.4004 - accuracy: 0.5519\n",
      "Epoch 192/250\n",
      "214/214 - 5s - loss: 1.3989 - accuracy: 0.5519\n",
      "Epoch 193/250\n",
      "214/214 - 6s - loss: 1.3993 - accuracy: 0.5537\n",
      "Epoch 194/250\n",
      "214/214 - 2408s - loss: 1.4021 - accuracy: 0.5499\n",
      "Epoch 195/250\n",
      "214/214 - 5s - loss: 1.4004 - accuracy: 0.5515\n",
      "Epoch 196/250\n",
      "214/214 - 5s - loss: 1.4035 - accuracy: 0.5514\n",
      "Epoch 197/250\n",
      "214/214 - 5s - loss: 1.3955 - accuracy: 0.5515\n",
      "Epoch 198/250\n",
      "214/214 - 5s - loss: 1.3960 - accuracy: 0.5541\n",
      "Epoch 199/250\n",
      "214/214 - 5s - loss: 1.3992 - accuracy: 0.5526\n",
      "Epoch 200/250\n",
      "214/214 - 5s - loss: 1.3993 - accuracy: 0.5531\n",
      "Epoch 201/250\n",
      "214/214 - 5s - loss: 1.3928 - accuracy: 0.5556\n",
      "Epoch 202/250\n",
      "214/214 - 5s - loss: 1.3960 - accuracy: 0.5551\n",
      "Epoch 203/250\n",
      "214/214 - 5s - loss: 1.3935 - accuracy: 0.5534\n",
      "Epoch 204/250\n",
      "214/214 - 5s - loss: 1.3949 - accuracy: 0.5538\n",
      "Epoch 205/250\n",
      "214/214 - 5s - loss: 1.3987 - accuracy: 0.5526\n",
      "Epoch 206/250\n",
      "214/214 - 6s - loss: 1.3921 - accuracy: 0.5536\n",
      "Epoch 207/250\n",
      "214/214 - 5s - loss: 1.3894 - accuracy: 0.5572\n",
      "Epoch 208/250\n",
      "214/214 - 5s - loss: 1.3907 - accuracy: 0.5526\n",
      "Epoch 209/250\n",
      "214/214 - 5s - loss: 1.3928 - accuracy: 0.5537\n",
      "Epoch 210/250\n",
      "214/214 - 5s - loss: 1.3901 - accuracy: 0.5535\n",
      "Epoch 211/250\n",
      "214/214 - 5s - loss: 1.3879 - accuracy: 0.5541\n",
      "Epoch 212/250\n",
      "214/214 - 5s - loss: 1.3851 - accuracy: 0.5548\n",
      "Epoch 213/250\n",
      "214/214 - 5s - loss: 1.3863 - accuracy: 0.5567\n",
      "Epoch 214/250\n",
      "214/214 - 5s - loss: 1.3875 - accuracy: 0.5553\n",
      "Epoch 215/250\n",
      "214/214 - 5s - loss: 1.3844 - accuracy: 0.5570\n",
      "Epoch 216/250\n",
      "214/214 - 5s - loss: 1.3878 - accuracy: 0.5555\n",
      "Epoch 217/250\n",
      "214/214 - 5s - loss: 1.3894 - accuracy: 0.5524\n",
      "Epoch 218/250\n",
      "214/214 - 5s - loss: 1.3864 - accuracy: 0.5569\n",
      "Epoch 219/250\n",
      "214/214 - 5s - loss: 1.3869 - accuracy: 0.5564\n",
      "Epoch 220/250\n",
      "214/214 - 5s - loss: 1.3804 - accuracy: 0.5556\n",
      "Epoch 221/250\n",
      "214/214 - 5s - loss: 1.3821 - accuracy: 0.5578\n",
      "Epoch 222/250\n",
      "214/214 - 5s - loss: 1.3802 - accuracy: 0.5584\n",
      "Epoch 223/250\n",
      "214/214 - 5s - loss: 1.3837 - accuracy: 0.5549\n",
      "Epoch 224/250\n",
      "214/214 - 5s - loss: 1.3851 - accuracy: 0.5562\n",
      "Epoch 225/250\n",
      "214/214 - 5s - loss: 1.3787 - accuracy: 0.5574\n",
      "Epoch 226/250\n",
      "214/214 - 5s - loss: 1.3846 - accuracy: 0.5543\n",
      "Epoch 227/250\n",
      "214/214 - 5s - loss: 1.3752 - accuracy: 0.5585\n",
      "Epoch 228/250\n",
      "214/214 - 5s - loss: 1.3789 - accuracy: 0.5570\n",
      "Epoch 229/250\n",
      "214/214 - 5s - loss: 1.3755 - accuracy: 0.5617\n",
      "Epoch 230/250\n",
      "214/214 - 5s - loss: 1.3785 - accuracy: 0.5594\n",
      "Epoch 231/250\n",
      "214/214 - 5s - loss: 1.3778 - accuracy: 0.5575\n",
      "Epoch 232/250\n",
      "214/214 - 5s - loss: 1.3803 - accuracy: 0.5561\n",
      "Epoch 233/250\n",
      "214/214 - 6s - loss: 1.3773 - accuracy: 0.5567\n",
      "Epoch 234/250\n",
      "214/214 - 6s - loss: 1.3728 - accuracy: 0.5610\n",
      "Epoch 235/250\n",
      "214/214 - 5s - loss: 1.3814 - accuracy: 0.5562\n",
      "Epoch 236/250\n",
      "214/214 - 6s - loss: 1.3756 - accuracy: 0.5564\n",
      "Epoch 237/250\n",
      "214/214 - 6s - loss: 1.3793 - accuracy: 0.5569\n",
      "Epoch 238/250\n",
      "214/214 - 5s - loss: 1.3710 - accuracy: 0.5605\n",
      "Epoch 239/250\n",
      "214/214 - 5s - loss: 1.3743 - accuracy: 0.5588\n",
      "Epoch 240/250\n",
      "214/214 - 5s - loss: 1.3734 - accuracy: 0.5568\n",
      "Epoch 241/250\n",
      "214/214 - 5s - loss: 1.3716 - accuracy: 0.5590\n",
      "Epoch 242/250\n",
      "214/214 - 5s - loss: 1.3698 - accuracy: 0.5634\n",
      "Epoch 243/250\n",
      "214/214 - 5s - loss: 1.3688 - accuracy: 0.5606\n",
      "Epoch 244/250\n",
      "214/214 - 6s - loss: 1.3708 - accuracy: 0.5579\n",
      "Epoch 245/250\n",
      "214/214 - 5s - loss: 1.3699 - accuracy: 0.5582\n",
      "Epoch 246/250\n",
      "214/214 - 5s - loss: 1.3651 - accuracy: 0.5616\n",
      "Epoch 247/250\n",
      "214/214 - 5s - loss: 1.3670 - accuracy: 0.5624\n",
      "Epoch 248/250\n",
      "214/214 - 6s - loss: 1.3717 - accuracy: 0.5590\n",
      "Epoch 249/250\n",
      "214/214 - 6s - loss: 1.3658 - accuracy: 0.5615\n",
      "Epoch 250/250\n",
      "214/214 - 5s - loss: 1.3648 - accuracy: 0.5606\n"
     ]
    }
   ],
   "source": [
    "history_m=model_m.fit(x=input_m,y=output_m,epochs=250,batch_size=128,verbose=2)"
   ]
  },
  {
   "cell_type": "code",
   "execution_count": 171,
   "metadata": {},
   "outputs": [
    {
     "data": {
      "text/plain": [
       "<AxesSubplot:>"
      ]
     },
     "execution_count": 171,
     "metadata": {},
     "output_type": "execute_result"
    },
    {
     "data": {
      "image/png": "[encoded data removed]",
      "text/plain": [
       "<Figure size 432x288 with 1 Axes>"
      ]
     },
     "metadata": {
      "needs_background": "light"
     },
     "output_type": "display_data"
    }
   ],
   "source": [
    "sns.lineplot(x=range(250),y=history_m.history['accuracy'])"
   ]
  },
  {
   "cell_type": "code",
   "execution_count": 164,
   "metadata": {},
   "outputs": [
    {
     "data": {
      "text/plain": [
       "<AxesSubplot:>"
      ]
     },
     "execution_count": 164,
     "metadata": {},
     "output_type": "execute_result"
    },
    {
     "data": {
      "image/png": "[encoded data removed]",
      "text/plain": [
       "<Figure size 432x288 with 1 Axes>"
      ]
     },
     "metadata": {
      "needs_background": "light"
     },
     "output_type": "display_data"
    }
   ],
   "source": [
    "sns.lineplot(x=range(250),y=history_m.history['loss'])"
   ]
  },
  {
   "cell_type": "code",
   "execution_count": 31,
   "metadata": {},
   "outputs": [],
   "source": [
    "#Helper function to generate unique names\n",
    "\n",
    "def generate_name(num,gender):\n",
    "    for i in range(num):\n",
    "        temp_list=[]\n",
    "        temp=np.zeros((1,12,27))\n",
    "        for i in range(10):\n",
    "            if(gender==\"m\"):\n",
    "                output=model_m(temp)\n",
    "            elif(gender==\"f\"):\n",
    "                output=model(temp)\n",
    "            char=np.random.choice(list(range(27)),p=np.array(output[0]))\n",
    "            if(char==0):\n",
    "                break\n",
    "            else:\n",
    "                temp_list.append(char)\n",
    "                node=0\n",
    "                temp=np.zeros((1,12,27))\n",
    "                for i in range(12):\n",
    "                    if(i+len(temp_list)>=12):\n",
    "                        temp[0][i][temp_list[node]]=1\n",
    "                        node=node+1\n",
    "                    #print(i,node,len(temp_list),char)\n",
    "        #print(temp)\n",
    "        for i in temp_list:\n",
    "            print(i_to_char[i],end=\"\")\n",
    "        print()\n",
    "            "
   ]
  },
  {
   "cell_type": "markdown",
   "metadata": {},
   "source": [
    "## Lets train female model 100 more epochs"
   ]
  },
  {
   "cell_type": "code",
   "execution_count": 215,
   "metadata": {},
   "outputs": [
    {
     "name": "stdout",
     "output_type": "stream",
     "text": [
      "Epoch 1/100\n",
      "170/170 - 6s - loss: 1.4341 - accuracy: 0.5398\n",
      "Epoch 2/100\n",
      "170/170 - 5s - loss: 1.4301 - accuracy: 0.5443\n",
      "Epoch 3/100\n",
      "170/170 - 4s - loss: 1.4288 - accuracy: 0.5438\n",
      "Epoch 4/100\n",
      "170/170 - 4s - loss: 1.4301 - accuracy: 0.5440\n",
      "Epoch 5/100\n",
      "170/170 - 4s - loss: 1.4268 - accuracy: 0.5450\n",
      "Epoch 6/100\n",
      "170/170 - 4s - loss: 1.4317 - accuracy: 0.5386\n",
      "Epoch 7/100\n",
      "170/170 - 4s - loss: 1.4231 - accuracy: 0.5464\n",
      "Epoch 8/100\n",
      "170/170 - 4s - loss: 1.4272 - accuracy: 0.5443\n",
      "Epoch 9/100\n",
      "170/170 - 4s - loss: 1.4233 - accuracy: 0.5459\n",
      "Epoch 10/100\n",
      "170/170 - 4s - loss: 1.4222 - accuracy: 0.5448\n",
      "Epoch 11/100\n",
      "170/170 - 4s - loss: 1.4226 - accuracy: 0.5444\n",
      "Epoch 12/100\n",
      "170/170 - 4s - loss: 1.4201 - accuracy: 0.5455\n",
      "Epoch 13/100\n",
      "170/170 - 4s - loss: 1.4205 - accuracy: 0.5458\n",
      "Epoch 14/100\n",
      "170/170 - 4s - loss: 1.4140 - accuracy: 0.5449\n",
      "Epoch 15/100\n",
      "170/170 - 4s - loss: 1.4147 - accuracy: 0.5481\n",
      "Epoch 16/100\n",
      "170/170 - 4s - loss: 1.4191 - accuracy: 0.5462\n",
      "Epoch 17/100\n",
      "170/170 - 4s - loss: 1.4100 - accuracy: 0.5474\n",
      "Epoch 18/100\n",
      "170/170 - 4s - loss: 1.4119 - accuracy: 0.5463\n",
      "Epoch 19/100\n",
      "170/170 - 4s - loss: 1.4124 - accuracy: 0.5488\n",
      "Epoch 20/100\n",
      "170/170 - 4s - loss: 1.4091 - accuracy: 0.5515\n",
      "Epoch 21/100\n",
      "170/170 - 4s - loss: 1.4116 - accuracy: 0.5471\n",
      "Epoch 22/100\n",
      "170/170 - 4s - loss: 1.4059 - accuracy: 0.5515\n",
      "Epoch 23/100\n",
      "170/170 - 4s - loss: 1.4088 - accuracy: 0.5489\n",
      "Epoch 24/100\n",
      "170/170 - 4s - loss: 1.4034 - accuracy: 0.5508\n",
      "Epoch 25/100\n",
      "170/170 - 4s - loss: 1.4094 - accuracy: 0.5456\n",
      "Epoch 26/100\n",
      "170/170 - 4s - loss: 1.4029 - accuracy: 0.5502\n",
      "Epoch 27/100\n",
      "170/170 - 4s - loss: 1.4005 - accuracy: 0.5504\n",
      "Epoch 28/100\n",
      "170/170 - 4s - loss: 1.4011 - accuracy: 0.5488\n",
      "Epoch 29/100\n",
      "170/170 - 4s - loss: 1.4011 - accuracy: 0.5509\n",
      "Epoch 30/100\n",
      "170/170 - 4s - loss: 1.4039 - accuracy: 0.5515\n",
      "Epoch 31/100\n",
      "170/170 - 4s - loss: 1.4016 - accuracy: 0.5504\n",
      "Epoch 32/100\n",
      "170/170 - 4s - loss: 1.3961 - accuracy: 0.5500\n",
      "Epoch 33/100\n",
      "170/170 - 4s - loss: 1.3985 - accuracy: 0.5532\n",
      "Epoch 34/100\n",
      "170/170 - 4s - loss: 1.3997 - accuracy: 0.5497\n",
      "Epoch 35/100\n",
      "170/170 - 4s - loss: 1.3975 - accuracy: 0.5504\n",
      "Epoch 36/100\n",
      "170/170 - 4s - loss: 1.3898 - accuracy: 0.5546\n",
      "Epoch 37/100\n",
      "170/170 - 4s - loss: 1.3900 - accuracy: 0.5503\n",
      "Epoch 38/100\n",
      "170/170 - 4s - loss: 1.3880 - accuracy: 0.5581\n",
      "Epoch 39/100\n",
      "170/170 - 4s - loss: 1.3966 - accuracy: 0.5508\n",
      "Epoch 40/100\n",
      "170/170 - 4s - loss: 1.3897 - accuracy: 0.5521\n",
      "Epoch 41/100\n",
      "170/170 - 4s - loss: 1.3913 - accuracy: 0.5582\n",
      "Epoch 42/100\n",
      "170/170 - 4s - loss: 1.3890 - accuracy: 0.5532\n",
      "Epoch 43/100\n",
      "170/170 - 4s - loss: 1.3877 - accuracy: 0.5537\n",
      "Epoch 44/100\n",
      "170/170 - 4s - loss: 1.3884 - accuracy: 0.5546\n",
      "Epoch 45/100\n",
      "170/170 - 4s - loss: 1.3867 - accuracy: 0.5536\n",
      "Epoch 46/100\n",
      "170/170 - 4s - loss: 1.3794 - accuracy: 0.5563\n",
      "Epoch 47/100\n",
      "170/170 - 4s - loss: 1.3883 - accuracy: 0.5506\n",
      "Epoch 48/100\n",
      "170/170 - 4s - loss: 1.3849 - accuracy: 0.5557\n",
      "Epoch 49/100\n",
      "170/170 - 4s - loss: 1.3806 - accuracy: 0.5551\n",
      "Epoch 50/100\n",
      "170/170 - 4s - loss: 1.3808 - accuracy: 0.5544\n",
      "Epoch 51/100\n",
      "170/170 - 4s - loss: 1.3807 - accuracy: 0.5577\n",
      "Epoch 52/100\n",
      "170/170 - 4s - loss: 1.3768 - accuracy: 0.5585\n",
      "Epoch 53/100\n",
      "170/170 - 4s - loss: 1.3826 - accuracy: 0.5567\n",
      "Epoch 54/100\n",
      "170/170 - 4s - loss: 1.3809 - accuracy: 0.5561\n",
      "Epoch 55/100\n",
      "170/170 - 4s - loss: 1.3781 - accuracy: 0.5586\n",
      "Epoch 56/100\n",
      "170/170 - 4s - loss: 1.3804 - accuracy: 0.5552\n",
      "Epoch 57/100\n",
      "170/170 - 4s - loss: 1.3782 - accuracy: 0.5534\n",
      "Epoch 58/100\n",
      "170/170 - 4s - loss: 1.3774 - accuracy: 0.5552\n",
      "Epoch 59/100\n",
      "170/170 - 4s - loss: 1.3724 - accuracy: 0.5563\n",
      "Epoch 60/100\n",
      "170/170 - 4s - loss: 1.3791 - accuracy: 0.5540\n",
      "Epoch 61/100\n",
      "170/170 - 4s - loss: 1.3804 - accuracy: 0.5554\n",
      "Epoch 62/100\n",
      "170/170 - 4s - loss: 1.3722 - accuracy: 0.5613\n",
      "Epoch 63/100\n",
      "170/170 - 4s - loss: 1.3747 - accuracy: 0.5569\n",
      "Epoch 64/100\n",
      "170/170 - 4s - loss: 1.3745 - accuracy: 0.5567\n",
      "Epoch 65/100\n",
      "170/170 - 4s - loss: 1.3692 - accuracy: 0.5593\n",
      "Epoch 66/100\n",
      "170/170 - 4s - loss: 1.3710 - accuracy: 0.5581\n",
      "Epoch 67/100\n",
      "170/170 - 4s - loss: 1.3720 - accuracy: 0.5565\n",
      "Epoch 68/100\n",
      "170/170 - 4s - loss: 1.3705 - accuracy: 0.5592\n",
      "Epoch 69/100\n",
      "170/170 - 4s - loss: 1.3685 - accuracy: 0.5616\n",
      "Epoch 70/100\n",
      "170/170 - 4s - loss: 1.3708 - accuracy: 0.5591\n",
      "Epoch 71/100\n",
      "170/170 - 4s - loss: 1.3700 - accuracy: 0.5590\n",
      "Epoch 72/100\n",
      "170/170 - 4s - loss: 1.3620 - accuracy: 0.5600\n",
      "Epoch 73/100\n",
      "170/170 - 4s - loss: 1.3667 - accuracy: 0.5600\n",
      "Epoch 74/100\n",
      "170/170 - 4s - loss: 1.3693 - accuracy: 0.5585\n",
      "Epoch 75/100\n",
      "170/170 - 4s - loss: 1.3640 - accuracy: 0.5602\n",
      "Epoch 76/100\n",
      "170/170 - 4s - loss: 1.3707 - accuracy: 0.5596\n",
      "Epoch 77/100\n",
      "170/170 - 4s - loss: 1.3684 - accuracy: 0.5581\n",
      "Epoch 78/100\n",
      "170/170 - 4s - loss: 1.3627 - accuracy: 0.5625\n",
      "Epoch 79/100\n",
      "170/170 - 4s - loss: 1.3628 - accuracy: 0.5617\n",
      "Epoch 80/100\n",
      "170/170 - 4s - loss: 1.3672 - accuracy: 0.5564\n",
      "Epoch 81/100\n",
      "170/170 - 4s - loss: 1.3600 - accuracy: 0.5612\n",
      "Epoch 82/100\n",
      "170/170 - 4s - loss: 1.3637 - accuracy: 0.5582\n",
      "Epoch 83/100\n",
      "170/170 - 4s - loss: 1.3609 - accuracy: 0.5601\n",
      "Epoch 84/100\n",
      "170/170 - 4s - loss: 1.3652 - accuracy: 0.5583\n",
      "Epoch 85/100\n",
      "170/170 - 4s - loss: 1.3599 - accuracy: 0.5592\n",
      "Epoch 86/100\n",
      "170/170 - 4s - loss: 1.3629 - accuracy: 0.5597\n",
      "Epoch 87/100\n",
      "170/170 - 4s - loss: 1.3596 - accuracy: 0.5582\n",
      "Epoch 88/100\n",
      "170/170 - 4s - loss: 1.3601 - accuracy: 0.5594\n",
      "Epoch 89/100\n",
      "170/170 - 4s - loss: 1.3590 - accuracy: 0.5600\n",
      "Epoch 90/100\n",
      "170/170 - 4s - loss: 1.3560 - accuracy: 0.5609\n",
      "Epoch 91/100\n",
      "170/170 - 4s - loss: 1.3527 - accuracy: 0.5610\n",
      "Epoch 92/100\n",
      "170/170 - 4s - loss: 1.3592 - accuracy: 0.5600\n",
      "Epoch 93/100\n",
      "170/170 - 4s - loss: 1.3575 - accuracy: 0.5619\n",
      "Epoch 94/100\n",
      "170/170 - 4s - loss: 1.3543 - accuracy: 0.5594\n",
      "Epoch 95/100\n",
      "170/170 - 4s - loss: 1.3545 - accuracy: 0.5629\n",
      "Epoch 96/100\n",
      "170/170 - 4s - loss: 1.3552 - accuracy: 0.5606\n",
      "Epoch 97/100\n",
      "170/170 - 4s - loss: 1.3552 - accuracy: 0.5622\n",
      "Epoch 98/100\n",
      "170/170 - 4s - loss: 1.3535 - accuracy: 0.5617\n",
      "Epoch 99/100\n",
      "170/170 - 4s - loss: 1.3556 - accuracy: 0.5620\n",
      "Epoch 100/100\n",
      "170/170 - 4s - loss: 1.3523 - accuracy: 0.5643\n"
     ]
    }
   ],
   "source": [
    "history1=model.fit(x=input_,y=output,epochs=100,batch_size=128,verbose=2)"
   ]
  },
  {
   "cell_type": "code",
   "execution_count": 216,
   "metadata": {},
   "outputs": [
    {
     "data": {
      "text/plain": [
       "<AxesSubplot:>"
      ]
     },
     "execution_count": 216,
     "metadata": {},
     "output_type": "execute_result"
    },
    {
     "data": {
      "image/png": "[encoded data removed]",
      "text/plain": [
       "<Figure size 432x288 with 1 Axes>"
      ]
     },
     "metadata": {
      "needs_background": "light"
     },
     "output_type": "display_data"
    }
   ],
   "source": [
    "sns.lineplot(x=range(100),y=history1.history['accuracy'])"
   ]
  },
  {
   "cell_type": "code",
   "execution_count": 217,
   "metadata": {},
   "outputs": [
    {
     "data": {
      "text/plain": [
       "<AxesSubplot:>"
      ]
     },
     "execution_count": 217,
     "metadata": {},
     "output_type": "execute_result"
    },
    {
     "data": {
      "image/png": "[encoded data removed]",
      "text/plain": [
       "<Figure size 432x288 with 1 Axes>"
      ]
     },
     "metadata": {
      "needs_background": "light"
     },
     "output_type": "display_data"
    }
   ],
   "source": [
    "sns.lineplot(x=range(100),y=history1.history['loss'])"
   ]
  },
  {
   "cell_type": "markdown",
   "metadata": {},
   "source": [
    "## Saving the male and female model for future use"
   ]
  },
  {
   "cell_type": "code",
   "execution_count": 174,
   "metadata": {},
   "outputs": [],
   "source": [
    "model_m.save(\"Boy.h5\")"
   ]
  },
  {
   "cell_type": "code",
   "execution_count": null,
   "metadata": {},
   "outputs": [],
   "source": [
    "model.save(\"Girl_v3.h5\")"
   ]
  },
  {
   "cell_type": "markdown",
   "metadata": {},
   "source": [
    "## Loading the models"
   ]
  },
  {
   "cell_type": "code",
   "execution_count": 33,
   "metadata": {},
   "outputs": [],
   "source": [
    "model=load_model(\"Girl_v3.h5\")\n",
    "model_m=load_model(\"Boy.h5\")"
   ]
  },
  {
   "cell_type": "markdown",
   "metadata": {},
   "source": [
    "## Generating Unique Names :)\n",
    "\n",
    "To generate name we need to call generate_name() function it takes two arguments \"num\" and \"Gender\", num is the number of names we want to generate and for Gender (male or female), we can give \"m\" for male and \"f\" for female as argument\n"
   ]
  },
  {
   "cell_type": "code",
   "execution_count": 50,
   "metadata": {},
   "outputs": [
    {
     "name": "stdout",
     "output_type": "stream",
     "text": [
      "ruchendra\n",
      "jazuai\n",
      "bhartendi\n",
      "devasish\n",
      "joir\n",
      "lavthar\n",
      "bhobhay\n",
      "dolly\n",
      "khamad\n",
      "ghanshyam\n"
     ]
    }
   ],
   "source": [
    "generate_name(10,\"m\")"
   ]
  },
  {
   "cell_type": "code",
   "execution_count": 42,
   "metadata": {},
   "outputs": [
    {
     "name": "stdout",
     "output_type": "stream",
     "text": [
      "santosh\n",
      "klashi\n",
      "roopali\n",
      "juber\n",
      "adisha\n",
      "durgannj\n",
      "somwati\n",
      "shtani\n",
      "rushukla\n",
      "saru\n"
     ]
    }
   ],
   "source": [
    "generate_name(10,\"f\")"
   ]
  },
  {
   "cell_type": "code",
   "execution_count": 47,
   "metadata": {},
   "outputs": [],
   "source": [
    "for i in corp:\n",
    "    if(i=='rushukla\\n'):\n",
    "        print(\"yes\")"
   ]
  },
  {
   "cell_type": "code",
   "execution_count": null,
   "metadata": {},
   "outputs": [],
   "source": []
  }
 ],
 "metadata": {
  "kernelspec": {
   "display_name": "Python 3",
   "language": "python",
   "name": "python3"
  },
  "language_info": {
   "codemirror_mode": {
    "name": "ipython",
    "version": 3
   },
   "file_extension": ".py",
   "mimetype": "text/x-python",
   "name": "python",
   "nbconvert_exporter": "python",
   "pygments_lexer": "ipython3",
   "version": "3.7.9"
  }
 },
 "nbformat": 4,
 "nbformat_minor": 4
}
